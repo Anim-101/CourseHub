{
 "cells": [
  {
   "cell_type": "code",
   "execution_count": 1,
   "metadata": {},
   "outputs": [
    {
     "name": "stdout",
     "output_type": "stream",
     "text": [
      "ITS TRUE!\n"
     ]
    }
   ],
   "source": [
    "if True:\n",
    "    print('ITS TRUE!')"
   ]
  },
  {
   "cell_type": "code",
   "execution_count": 2,
   "metadata": {},
   "outputs": [
    {
     "name": "stdout",
     "output_type": "stream",
     "text": [
      "It is true!\n"
     ]
    }
   ],
   "source": [
    "if 3 > 2:\n",
    "    print('It is true!')"
   ]
  },
  {
   "cell_type": "code",
   "execution_count": 3,
   "metadata": {},
   "outputs": [],
   "source": [
    "hungry = True"
   ]
  },
  {
   "cell_type": "code",
   "execution_count": 4,
   "metadata": {},
   "outputs": [
    {
     "name": "stdout",
     "output_type": "stream",
     "text": [
      "Feed Me\n"
     ]
    }
   ],
   "source": [
    "if hungry:\n",
    "    print('Feed Me')"
   ]
  },
  {
   "cell_type": "code",
   "execution_count": 5,
   "metadata": {},
   "outputs": [],
   "source": [
    "hungry = False"
   ]
  },
  {
   "cell_type": "code",
   "execution_count": 6,
   "metadata": {},
   "outputs": [
    {
     "ename": "SyntaxError",
     "evalue": "unexpected EOF while parsing (<ipython-input-6-266d101ff44f>, line 1)",
     "output_type": "error",
     "traceback": [
      "\u001b[1;36m  File \u001b[1;32m\"<ipython-input-6-266d101ff44f>\"\u001b[1;36m, line \u001b[1;32m1\u001b[0m\n\u001b[1;33m    if hungry:\u001b[0m\n\u001b[1;37m              ^\u001b[0m\n\u001b[1;31mSyntaxError\u001b[0m\u001b[1;31m:\u001b[0m unexpected EOF while parsing\n"
     ]
    }
   ],
   "source": [
    "if hungry:"
   ]
  },
  {
   "cell_type": "code",
   "execution_count": 7,
   "metadata": {},
   "outputs": [],
   "source": [
    "if hungry:\n",
    "    print('It is False')"
   ]
  },
  {
   "cell_type": "code",
   "execution_count": 10,
   "metadata": {},
   "outputs": [
    {
     "name": "stdout",
     "output_type": "stream",
     "text": [
      "Feed Me\n"
     ]
    }
   ],
   "source": [
    "hungry = True\n",
    "\n",
    "if hungry == True:\n",
    "    print('Feed Me')\n",
    "else:\n",
    "    print('No Need, Fellow')\n"
   ]
  },
  {
   "cell_type": "code",
   "execution_count": 16,
   "metadata": {},
   "outputs": [
    {
     "name": "stdout",
     "output_type": "stream",
     "text": [
      "Welcome to the store!!\n"
     ]
    }
   ],
   "source": [
    "location = 'Store'\n",
    "\n",
    "if location == 'Auto Shop':\n",
    "    print('Cars are cool')\n",
    "elif location == 'Bank':\n",
    "    print('Money is Cool !!')\n",
    "elif location == 'Store':\n",
    "    print('Welcome to the store!!')\n",
    "else:\n",
    "    print('Hey I do not know')"
   ]
  },
  {
   "cell_type": "code",
   "execution_count": 18,
   "metadata": {},
   "outputs": [
    {
     "name": "stdout",
     "output_type": "stream",
     "text": [
      "This is not Leo :O \n"
     ]
    }
   ],
   "source": [
    "name = 'Andres'\n",
    "\n",
    "if name == 'Messi':\n",
    "    print('Hello Leo')\n",
    "elif name == 'Leo':\n",
    "    print('Hello Messi')\n",
    "else:\n",
    "    print(\"This is not Leo :O \")"
   ]
  },
  {
   "cell_type": "code",
   "execution_count": null,
   "metadata": {},
   "outputs": [],
   "source": []
  }
 ],
 "metadata": {
  "kernelspec": {
   "display_name": "Python 3",
   "language": "python",
   "name": "python3"
  },
  "language_info": {
   "codemirror_mode": {
    "name": "ipython",
    "version": 3
   },
   "file_extension": ".py",
   "mimetype": "text/x-python",
   "name": "python",
   "nbconvert_exporter": "python",
   "pygments_lexer": "ipython3",
   "version": "3.8.3"
  }
 },
 "nbformat": 4,
 "nbformat_minor": 4
}
